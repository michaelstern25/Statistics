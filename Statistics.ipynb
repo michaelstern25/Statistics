{
 "cells": [
  {
   "cell_type": "code",
   "execution_count": 1,
   "id": "f607caa5-ea77-4949-969e-391f6060e4de",
   "metadata": {},
   "outputs": [],
   "source": [
    "import pandas as pd\n",
    "import numpy as np\n",
    "import seaborn as sns\n",
    "import matplotlib.pyplot as plt\n",
    "import warnings\n",
    "warnings.filterwarnings('ignore')"
   ]
  },
  {
   "cell_type": "code",
   "execution_count": 2,
   "id": "a171480a-e5b7-4b34-ab0e-94c5483b13f0",
   "metadata": {},
   "outputs": [
    {
     "data": {
      "text/html": [
       "<div>\n",
       "<style scoped>\n",
       "    .dataframe tbody tr th:only-of-type {\n",
       "        vertical-align: middle;\n",
       "    }\n",
       "\n",
       "    .dataframe tbody tr th {\n",
       "        vertical-align: top;\n",
       "    }\n",
       "\n",
       "    .dataframe thead th {\n",
       "        text-align: right;\n",
       "    }\n",
       "</style>\n",
       "<table border=\"1\" class=\"dataframe\">\n",
       "  <thead>\n",
       "    <tr style=\"text-align: right;\">\n",
       "      <th></th>\n",
       "      <th>survived</th>\n",
       "      <th>pclass</th>\n",
       "      <th>sex</th>\n",
       "      <th>age</th>\n",
       "      <th>sibsp</th>\n",
       "      <th>parch</th>\n",
       "      <th>fare</th>\n",
       "      <th>embarked</th>\n",
       "      <th>class</th>\n",
       "      <th>who</th>\n",
       "      <th>adult_male</th>\n",
       "      <th>deck</th>\n",
       "      <th>embark_town</th>\n",
       "      <th>alive</th>\n",
       "      <th>alone</th>\n",
       "    </tr>\n",
       "  </thead>\n",
       "  <tbody>\n",
       "    <tr>\n",
       "      <th>0</th>\n",
       "      <td>0</td>\n",
       "      <td>3</td>\n",
       "      <td>male</td>\n",
       "      <td>22.0</td>\n",
       "      <td>1</td>\n",
       "      <td>0</td>\n",
       "      <td>7.2500</td>\n",
       "      <td>S</td>\n",
       "      <td>Third</td>\n",
       "      <td>man</td>\n",
       "      <td>True</td>\n",
       "      <td>NaN</td>\n",
       "      <td>Southampton</td>\n",
       "      <td>no</td>\n",
       "      <td>False</td>\n",
       "    </tr>\n",
       "    <tr>\n",
       "      <th>1</th>\n",
       "      <td>1</td>\n",
       "      <td>1</td>\n",
       "      <td>female</td>\n",
       "      <td>38.0</td>\n",
       "      <td>1</td>\n",
       "      <td>0</td>\n",
       "      <td>71.2833</td>\n",
       "      <td>C</td>\n",
       "      <td>First</td>\n",
       "      <td>woman</td>\n",
       "      <td>False</td>\n",
       "      <td>C</td>\n",
       "      <td>Cherbourg</td>\n",
       "      <td>yes</td>\n",
       "      <td>False</td>\n",
       "    </tr>\n",
       "    <tr>\n",
       "      <th>2</th>\n",
       "      <td>1</td>\n",
       "      <td>3</td>\n",
       "      <td>female</td>\n",
       "      <td>26.0</td>\n",
       "      <td>0</td>\n",
       "      <td>0</td>\n",
       "      <td>7.9250</td>\n",
       "      <td>S</td>\n",
       "      <td>Third</td>\n",
       "      <td>woman</td>\n",
       "      <td>False</td>\n",
       "      <td>NaN</td>\n",
       "      <td>Southampton</td>\n",
       "      <td>yes</td>\n",
       "      <td>True</td>\n",
       "    </tr>\n",
       "  </tbody>\n",
       "</table>\n",
       "</div>"
      ],
      "text/plain": [
       "   survived  pclass     sex   age  sibsp  parch     fare embarked  class  \\\n",
       "0         0       3    male  22.0      1      0   7.2500        S  Third   \n",
       "1         1       1  female  38.0      1      0  71.2833        C  First   \n",
       "2         1       3  female  26.0      0      0   7.9250        S  Third   \n",
       "\n",
       "     who  adult_male deck  embark_town alive  alone  \n",
       "0    man        True  NaN  Southampton    no  False  \n",
       "1  woman       False    C    Cherbourg   yes  False  \n",
       "2  woman       False  NaN  Southampton   yes   True  "
      ]
     },
     "execution_count": 2,
     "metadata": {},
     "output_type": "execute_result"
    }
   ],
   "source": [
    "dataset = sns.load_dataset('titanic')\n",
    "dataset.head(3)"
   ]
  },
  {
   "cell_type": "code",
   "execution_count": 3,
   "id": "dc9a7c3b-bcdb-42cc-811a-5de84bd981c2",
   "metadata": {},
   "outputs": [],
   "source": [
    "dataset[\"age\"].fillna(dataset[\"age\"].mean(), inplace=True)"
   ]
  },
  {
   "cell_type": "markdown",
   "id": "07b69c0e-6d4b-48e8-9855-63c363bcf350",
   "metadata": {
    "jp-MarkdownHeadingCollapsed": true
   },
   "source": [
    "# 1. Descriptive Statistics"
   ]
  },
  {
   "cell_type": "markdown",
   "id": "70de56cb-cffb-4863-a649-068e71d606cd",
   "metadata": {
    "jp-MarkdownHeadingCollapsed": true
   },
   "source": [
    "## a. Measures of Central Tendency\n",
    "( Mean, Median, Mode )"
   ]
  },
  {
   "cell_type": "code",
   "execution_count": 4,
   "id": "a8752edd-1bb8-4e09-8e28-6768648d223f",
   "metadata": {},
   "outputs": [
    {
     "data": {
      "text/plain": [
       "np.float64(29.69911764705882)"
      ]
     },
     "execution_count": 4,
     "metadata": {},
     "output_type": "execute_result"
    }
   ],
   "source": [
    "mn = dataset[\"age\"].mean()\n",
    "mn"
   ]
  },
  {
   "cell_type": "code",
   "execution_count": 5,
   "id": "d19e6f4f-4c90-47ab-b4b8-6dd947890260",
   "metadata": {},
   "outputs": [
    {
     "data": {
      "text/plain": [
       "np.float64(14.4542)"
      ]
     },
     "execution_count": 5,
     "metadata": {},
     "output_type": "execute_result"
    }
   ],
   "source": [
    "md = np.median(dataset[\"fare\"])\n",
    "md"
   ]
  },
  {
   "cell_type": "code",
   "execution_count": 6,
   "id": "67a64b33-489c-4ebe-9ad1-6c65a03098e4",
   "metadata": {},
   "outputs": [
    {
     "data": {
      "text/plain": [
       "np.float64(8.05)"
      ]
     },
     "execution_count": 6,
     "metadata": {},
     "output_type": "execute_result"
    }
   ],
   "source": [
    "mo = dataset[\"fare\"].mode()[0]\n",
    "mo"
   ]
  },
  {
   "cell_type": "code",
   "execution_count": 7,
   "id": "d9da5323-0d0e-42dc-a70f-a5e505835f9d",
   "metadata": {},
   "outputs": [
    {
     "data": {
      "text/plain": [
       "fare\n",
       "8.0500     43\n",
       "13.0000    42\n",
       "7.8958     38\n",
       "7.7500     34\n",
       "26.0000    31\n",
       "           ..\n",
       "13.8583     1\n",
       "50.4958     1\n",
       "5.0000      1\n",
       "9.8458      1\n",
       "10.5167     1\n",
       "Name: count, Length: 248, dtype: int64"
      ]
     },
     "execution_count": 7,
     "metadata": {},
     "output_type": "execute_result"
    }
   ],
   "source": [
    "dataset[\"fare\"].value_counts()"
   ]
  },
  {
   "cell_type": "code",
   "execution_count": 8,
   "id": "566a3e3d-d98a-4bb8-8a91-b36bf524fc85",
   "metadata": {},
   "outputs": [
    {
     "data": {
      "text/plain": [
       "'male'"
      ]
     },
     "execution_count": 8,
     "metadata": {},
     "output_type": "execute_result"
    }
   ],
   "source": [
    "mo1 = dataset[\"sex\"].mode()[0]\n",
    "mo1"
   ]
  },
  {
   "cell_type": "markdown",
   "id": "7569343b-5165-4cfe-ae71-1fdb23090ef2",
   "metadata": {
    "jp-MarkdownHeadingCollapsed": true
   },
   "source": [
    "## b. Measures of Variability\n",
    "( Range, MAD, Variance, Std )"
   ]
  },
  {
   "cell_type": "code",
   "execution_count": 9,
   "id": "987cf27d-93d1-49f5-9201-3fdaebf8de15",
   "metadata": {},
   "outputs": [
    {
     "data": {
      "image/png": "[encoded data removed]",
      "text/plain": [
       "<Figure size 640x480 with 1 Axes>"
      ]
     },
     "metadata": {},
     "output_type": "display_data"
    }
   ],
   "source": [
    "sns.histplot(x='fare', data=dataset, bins=[i for i in range(0,81,10)])\n",
    "plt.plot([mn for i in range(0,500)], [i for i in range(0,500)], c='red', label=\"mean\")\n",
    "plt.plot([md for i in range(0,500)], [i for i in range(0,500)], c='blue', label=\"median\")\n",
    "plt.plot([mo for i in range(0,500)], [i for i in range(0,500)], c='green', label=\"mode\")\n",
    "plt.legend()\n",
    "plt.show()"
   ]
  },
  {
   "cell_type": "code",
   "execution_count": 10,
   "id": "dd71494e-97ae-4112-a664-defda6631e91",
   "metadata": {},
   "outputs": [
    {
     "data": {
      "text/plain": [
       "np.float64(79.58)"
      ]
     },
     "execution_count": 10,
     "metadata": {},
     "output_type": "execute_result"
    }
   ],
   "source": [
    "# Range\n",
    "max_r = dataset[\"age\"].max() \n",
    "min_r = dataset[\"age\"].min() \n",
    "range_ = max_r - min_r\n",
    "range_"
   ]
  },
  {
   "cell_type": "code",
   "execution_count": 11,
   "id": "142a9e5e-ccef-4c86-b172-757049504d80",
   "metadata": {},
   "outputs": [],
   "source": [
    "# Mean Absolute Deviation\n",
    "sec_a = np.array([75,65,73,68,72,67])\n",
    "sec_b = np.array([90,47,43,96,93,51])\n",
    "no = np.array([1,2,3,4,5,6])"
   ]
  },
  {
   "cell_type": "code",
   "execution_count": 12,
   "id": "5a08f4bb-8033-4583-9fe2-53fe85e7400e",
   "metadata": {},
   "outputs": [
    {
     "data": {
      "text/plain": [
       "np.float64(70.0)"
      ]
     },
     "execution_count": 12,
     "metadata": {},
     "output_type": "execute_result"
    }
   ],
   "source": [
    "mean_a = sec_a.mean() \n",
    "mean_a"
   ]
  },
  {
   "cell_type": "code",
   "execution_count": 13,
   "id": "3ffc159f-9d9c-4ba6-9a54-ea692d96555b",
   "metadata": {},
   "outputs": [
    {
     "data": {
      "text/plain": [
       "np.float64(70.0)"
      ]
     },
     "execution_count": 13,
     "metadata": {},
     "output_type": "execute_result"
    }
   ],
   "source": [
    "mean_b = sec_b.mean()\n",
    "mean_b"
   ]
  },
  {
   "cell_type": "code",
   "execution_count": 14,
   "id": "e7eef341-c8ec-48e4-acec-a5308156c6cf",
   "metadata": {},
   "outputs": [
    {
     "data": {
      "image/png": "[encoded data removed]",
      "text/plain": [
       "<Figure size 1000x300 with 1 Axes>"
      ]
     },
     "metadata": {},
     "output_type": "display_data"
    }
   ],
   "source": [
    "plt.figure(figsize=(10,3))\n",
    "plt.scatter(sec_a, no, label=\"sec A\")\n",
    "plt.scatter(sec_b, no, label=\"sec b\")\n",
    "plt.plot([70,70,70,70,70,70], no, c=\"green\", label=\"mean\")\n",
    "plt.legend()\n",
    "plt.show()"
   ]
  },
  {
   "cell_type": "code",
   "execution_count": 15,
   "id": "894ad488-e207-45f3-8482-d488e73214a7",
   "metadata": {},
   "outputs": [],
   "source": [
    "mad_a = np.sum(np.abs(sec_a - sec_a.mean()))/len(sec_a)\n",
    "mad_b = np.sum(np.abs(sec_b - sec_b.mean()))/len(sec_b)"
   ]
  },
  {
   "cell_type": "code",
   "execution_count": 16,
   "id": "254609f8-5cbb-4cc1-81fb-02e0a43106f1",
   "metadata": {},
   "outputs": [
    {
     "data": {
      "text/plain": [
       "(np.float64(3.3333333333333335), np.float64(23.0))"
      ]
     },
     "execution_count": 16,
     "metadata": {},
     "output_type": "execute_result"
    }
   ],
   "source": [
    "mad_a , mad_b"
   ]
  },
  {
   "cell_type": "code",
   "execution_count": 17,
   "id": "0272787b-6ee2-48ba-b85b-5ce28229a2e5",
   "metadata": {},
   "outputs": [
    {
     "data": {
      "text/plain": [
       "(np.float64(3.559026084010437), np.float64(23.18045153428495))"
      ]
     },
     "execution_count": 17,
     "metadata": {},
     "output_type": "execute_result"
    }
   ],
   "source": [
    "# Standard Deviation \n",
    "np.std(sec_a), np.std(sec_b)"
   ]
  },
  {
   "cell_type": "code",
   "execution_count": 18,
   "id": "6b5fffca-efad-4f88-87c5-2f785923c6b3",
   "metadata": {},
   "outputs": [
    {
     "data": {
      "text/plain": [
       "(np.float64(12.666666666666666), np.float64(537.3333333333334))"
      ]
     },
     "execution_count": 18,
     "metadata": {},
     "output_type": "execute_result"
    }
   ],
   "source": [
    "# Variance\n",
    "np.var(sec_a), np.var(sec_b)"
   ]
  },
  {
   "cell_type": "code",
   "execution_count": 19,
   "id": "68ed04b7-1dfd-4e42-b817-e896feb63ce4",
   "metadata": {},
   "outputs": [
    {
     "data": {
      "text/plain": [
       "np.float64(169.0523999372108)"
      ]
     },
     "execution_count": 19,
     "metadata": {},
     "output_type": "execute_result"
    }
   ],
   "source": [
    "dataset[\"age\"].var()"
   ]
  },
  {
   "cell_type": "code",
   "execution_count": 20,
   "id": "d5c2250c-5ddf-4585-b246-3e2665d58c89",
   "metadata": {},
   "outputs": [
    {
     "data": {
      "image/png": "[encoded data removed]",
      "text/plain": [
       "<Figure size 640x480 with 1 Axes>"
      ]
     },
     "metadata": {},
     "output_type": "display_data"
    }
   ],
   "source": [
    "sns.histplot(x='age', data=dataset, kde=True)\n",
    "plt.show()"
   ]
  },
  {
   "cell_type": "markdown",
   "id": "5833ff91-67a8-43f6-8eb8-b2eb77f2105a",
   "metadata": {
    "jp-MarkdownHeadingCollapsed": true
   },
   "source": [
    "## c. Percentiles \n",
    "( Percentage, Quartiles, Boxplot )"
   ]
  },
  {
   "cell_type": "code",
   "execution_count": 21,
   "id": "559ff0ec-ba4c-4b12-b159-8751f4e58d25",
   "metadata": {},
   "outputs": [
    {
     "data": {
      "text/plain": [
       "(np.float64(22.0), np.float64(35.0))"
      ]
     },
     "execution_count": 21,
     "metadata": {},
     "output_type": "execute_result"
    }
   ],
   "source": [
    "# Percentiles\n",
    "np.percentile(dataset[\"age\"], 25), np.percentile(dataset[\"age\"], 75)"
   ]
  },
  {
   "cell_type": "code",
   "execution_count": 22,
   "id": "88df1889-e2c6-49a9-a0ea-0a74f38dbc28",
   "metadata": {},
   "outputs": [
    {
     "data": {
      "image/png": "[encoded data removed]",
      "text/plain": [
       "<Figure size 640x480 with 1 Axes>"
      ]
     },
     "metadata": {},
     "output_type": "display_data"
    }
   ],
   "source": [
    "sns.boxplot(x=\"age\", data=dataset, color='lightgreen')\n",
    "plt.tight_layout()\n",
    "plt.show()"
   ]
  },
  {
   "cell_type": "markdown",
   "id": "78485b94-e087-44b4-b64d-105bfa7eabfb",
   "metadata": {
    "jp-MarkdownHeadingCollapsed": true
   },
   "source": [
    "## d. Measures of shape\n",
    "( Skewness )"
   ]
  },
  {
   "cell_type": "code",
   "execution_count": 23,
   "id": "a54ecdc7-32bd-4027-bcc9-457e824aaf37",
   "metadata": {},
   "outputs": [
    {
     "data": {
      "text/plain": [
       "np.float64(0.4344880940129925)"
      ]
     },
     "execution_count": 23,
     "metadata": {},
     "output_type": "execute_result"
    }
   ],
   "source": [
    "# skew > 0 positive skewness\n",
    "# skew < 0 negative skewness\n",
    "# 0 No skewness\n",
    "dataset[\"age\"].skew()"
   ]
  },
  {
   "cell_type": "code",
   "execution_count": 24,
   "id": "68818b7a-12cc-4e7c-a5f2-1f8eb13d07d2",
   "metadata": {},
   "outputs": [
    {
     "data": {
      "image/png": "[encoded data removed]",
      "text/plain": [
       "<Figure size 640x480 with 1 Axes>"
      ]
     },
     "metadata": {},
     "output_type": "display_data"
    }
   ],
   "source": [
    "sns.histplot(x=\"age\", data=dataset, kde=True)\n",
    "plt.show()"
   ]
  },
  {
   "cell_type": "markdown",
   "id": "5718a9e1-8c72-4941-9006-e924a3cfebbf",
   "metadata": {
    "jp-MarkdownHeadingCollapsed": true
   },
   "source": [
    "## e. Covariance and Correlation"
   ]
  },
  {
   "cell_type": "code",
   "execution_count": 25,
   "id": "2c4e3a23-bc5d-4e65-941d-efb289b4b2c8",
   "metadata": {},
   "outputs": [
    {
     "data": {
      "text/html": [
       "<div>\n",
       "<style scoped>\n",
       "    .dataframe tbody tr th:only-of-type {\n",
       "        vertical-align: middle;\n",
       "    }\n",
       "\n",
       "    .dataframe tbody tr th {\n",
       "        vertical-align: top;\n",
       "    }\n",
       "\n",
       "    .dataframe thead th {\n",
       "        text-align: right;\n",
       "    }\n",
       "</style>\n",
       "<table border=\"1\" class=\"dataframe\">\n",
       "  <thead>\n",
       "    <tr style=\"text-align: right;\">\n",
       "      <th></th>\n",
       "      <th>survived</th>\n",
       "      <th>pclass</th>\n",
       "      <th>age</th>\n",
       "      <th>sibsp</th>\n",
       "      <th>parch</th>\n",
       "      <th>fare</th>\n",
       "    </tr>\n",
       "  </thead>\n",
       "  <tbody>\n",
       "    <tr>\n",
       "      <th>survived</th>\n",
       "      <td>0.236772</td>\n",
       "      <td>-0.137703</td>\n",
       "      <td>-0.441656</td>\n",
       "      <td>-0.018954</td>\n",
       "      <td>0.032017</td>\n",
       "      <td>6.221787</td>\n",
       "    </tr>\n",
       "    <tr>\n",
       "      <th>pclass</th>\n",
       "      <td>-0.137703</td>\n",
       "      <td>0.699015</td>\n",
       "      <td>-3.601855</td>\n",
       "      <td>0.076599</td>\n",
       "      <td>0.012429</td>\n",
       "      <td>-22.830196</td>\n",
       "    </tr>\n",
       "    <tr>\n",
       "      <th>age</th>\n",
       "      <td>-0.441656</td>\n",
       "      <td>-3.601855</td>\n",
       "      <td>169.052400</td>\n",
       "      <td>-3.335345</td>\n",
       "      <td>-1.877987</td>\n",
       "      <td>59.162200</td>\n",
       "    </tr>\n",
       "    <tr>\n",
       "      <th>sibsp</th>\n",
       "      <td>-0.018954</td>\n",
       "      <td>0.076599</td>\n",
       "      <td>-3.335345</td>\n",
       "      <td>1.216043</td>\n",
       "      <td>0.368739</td>\n",
       "      <td>8.748734</td>\n",
       "    </tr>\n",
       "    <tr>\n",
       "      <th>parch</th>\n",
       "      <td>0.032017</td>\n",
       "      <td>0.012429</td>\n",
       "      <td>-1.877987</td>\n",
       "      <td>0.368739</td>\n",
       "      <td>0.649728</td>\n",
       "      <td>8.661052</td>\n",
       "    </tr>\n",
       "    <tr>\n",
       "      <th>fare</th>\n",
       "      <td>6.221787</td>\n",
       "      <td>-22.830196</td>\n",
       "      <td>59.162200</td>\n",
       "      <td>8.748734</td>\n",
       "      <td>8.661052</td>\n",
       "      <td>2469.436846</td>\n",
       "    </tr>\n",
       "  </tbody>\n",
       "</table>\n",
       "</div>"
      ],
      "text/plain": [
       "          survived     pclass         age     sibsp     parch         fare\n",
       "survived  0.236772  -0.137703   -0.441656 -0.018954  0.032017     6.221787\n",
       "pclass   -0.137703   0.699015   -3.601855  0.076599  0.012429   -22.830196\n",
       "age      -0.441656  -3.601855  169.052400 -3.335345 -1.877987    59.162200\n",
       "sibsp    -0.018954   0.076599   -3.335345  1.216043  0.368739     8.748734\n",
       "parch     0.032017   0.012429   -1.877987  0.368739  0.649728     8.661052\n",
       "fare      6.221787 -22.830196   59.162200  8.748734  8.661052  2469.436846"
      ]
     },
     "execution_count": 25,
     "metadata": {},
     "output_type": "execute_result"
    }
   ],
   "source": [
    "# Covariance\n",
    "dataset.select_dtypes(include=['int64','float64']).cov()"
   ]
  },
  {
   "cell_type": "code",
   "execution_count": 26,
   "id": "baa509a7-60a5-42d4-81ed-5aed7709729f",
   "metadata": {},
   "outputs": [
    {
     "data": {
      "image/png": "[encoded data removed]",
      "text/plain": [
       "<Figure size 640x480 with 2 Axes>"
      ]
     },
     "metadata": {},
     "output_type": "display_data"
    }
   ],
   "source": [
    "sns.heatmap(data=dataset.select_dtypes(include=['int64','float64']).cov(), annot=True)\n",
    "plt.show()"
   ]
  },
  {
   "cell_type": "code",
   "execution_count": 27,
   "id": "1390ed77-f017-41df-8a49-29398f0e1ef5",
   "metadata": {},
   "outputs": [
    {
     "data": {
      "text/html": [
       "<div>\n",
       "<style scoped>\n",
       "    .dataframe tbody tr th:only-of-type {\n",
       "        vertical-align: middle;\n",
       "    }\n",
       "\n",
       "    .dataframe tbody tr th {\n",
       "        vertical-align: top;\n",
       "    }\n",
       "\n",
       "    .dataframe thead th {\n",
       "        text-align: right;\n",
       "    }\n",
       "</style>\n",
       "<table border=\"1\" class=\"dataframe\">\n",
       "  <thead>\n",
       "    <tr style=\"text-align: right;\">\n",
       "      <th></th>\n",
       "      <th>survived</th>\n",
       "      <th>pclass</th>\n",
       "      <th>age</th>\n",
       "      <th>sibsp</th>\n",
       "      <th>parch</th>\n",
       "      <th>fare</th>\n",
       "    </tr>\n",
       "  </thead>\n",
       "  <tbody>\n",
       "    <tr>\n",
       "      <th>survived</th>\n",
       "      <td>1.000000</td>\n",
       "      <td>-0.338481</td>\n",
       "      <td>-0.069809</td>\n",
       "      <td>-0.035322</td>\n",
       "      <td>0.081629</td>\n",
       "      <td>0.257307</td>\n",
       "    </tr>\n",
       "    <tr>\n",
       "      <th>pclass</th>\n",
       "      <td>-0.338481</td>\n",
       "      <td>1.000000</td>\n",
       "      <td>-0.331339</td>\n",
       "      <td>0.083081</td>\n",
       "      <td>0.018443</td>\n",
       "      <td>-0.549500</td>\n",
       "    </tr>\n",
       "    <tr>\n",
       "      <th>age</th>\n",
       "      <td>-0.069809</td>\n",
       "      <td>-0.331339</td>\n",
       "      <td>1.000000</td>\n",
       "      <td>-0.232625</td>\n",
       "      <td>-0.179191</td>\n",
       "      <td>0.091566</td>\n",
       "    </tr>\n",
       "    <tr>\n",
       "      <th>sibsp</th>\n",
       "      <td>-0.035322</td>\n",
       "      <td>0.083081</td>\n",
       "      <td>-0.232625</td>\n",
       "      <td>1.000000</td>\n",
       "      <td>0.414838</td>\n",
       "      <td>0.159651</td>\n",
       "    </tr>\n",
       "    <tr>\n",
       "      <th>parch</th>\n",
       "      <td>0.081629</td>\n",
       "      <td>0.018443</td>\n",
       "      <td>-0.179191</td>\n",
       "      <td>0.414838</td>\n",
       "      <td>1.000000</td>\n",
       "      <td>0.216225</td>\n",
       "    </tr>\n",
       "    <tr>\n",
       "      <th>fare</th>\n",
       "      <td>0.257307</td>\n",
       "      <td>-0.549500</td>\n",
       "      <td>0.091566</td>\n",
       "      <td>0.159651</td>\n",
       "      <td>0.216225</td>\n",
       "      <td>1.000000</td>\n",
       "    </tr>\n",
       "  </tbody>\n",
       "</table>\n",
       "</div>"
      ],
      "text/plain": [
       "          survived    pclass       age     sibsp     parch      fare\n",
       "survived  1.000000 -0.338481 -0.069809 -0.035322  0.081629  0.257307\n",
       "pclass   -0.338481  1.000000 -0.331339  0.083081  0.018443 -0.549500\n",
       "age      -0.069809 -0.331339  1.000000 -0.232625 -0.179191  0.091566\n",
       "sibsp    -0.035322  0.083081 -0.232625  1.000000  0.414838  0.159651\n",
       "parch     0.081629  0.018443 -0.179191  0.414838  1.000000  0.216225\n",
       "fare      0.257307 -0.549500  0.091566  0.159651  0.216225  1.000000"
      ]
     },
     "execution_count": 27,
     "metadata": {},
     "output_type": "execute_result"
    }
   ],
   "source": [
    "# Correlation\n",
    "dataset.select_dtypes(include=['int64','float64']).corr()"
   ]
  },
  {
   "cell_type": "code",
   "execution_count": 28,
   "id": "bc35d0f1-5046-4504-b019-ce66852be57d",
   "metadata": {},
   "outputs": [
    {
     "data": {
      "image/png": "[encoded data removed]",
      "text/plain": [
       "<Figure size 640x480 with 2 Axes>"
      ]
     },
     "metadata": {},
     "output_type": "display_data"
    }
   ],
   "source": [
    "sns.heatmap(data=dataset.select_dtypes(include=['int64','float64']).corr(), annot=True)\n",
    "plt.show()"
   ]
  },
  {
   "cell_type": "markdown",
   "id": "02424f33-9207-43c6-a98c-bb6ccfcd70cc",
   "metadata": {},
   "source": [
    "# 2. Inferential Statistics"
   ]
  },
  {
   "cell_type": "markdown",
   "id": "58b62227-95ea-4ca3-91f6-60950c75e29a",
   "metadata": {},
   "source": [
    "## a. Central Limit Theorem"
   ]
  },
  {
   "cell_type": "code",
   "execution_count": 29,
   "id": "62ca6df7-6a61-4708-b54a-e41edf9a0bb9",
   "metadata": {},
   "outputs": [
    {
     "data": {
      "text/html": [
       "<div>\n",
       "<style scoped>\n",
       "    .dataframe tbody tr th:only-of-type {\n",
       "        vertical-align: middle;\n",
       "    }\n",
       "\n",
       "    .dataframe tbody tr th {\n",
       "        vertical-align: top;\n",
       "    }\n",
       "\n",
       "    .dataframe thead th {\n",
       "        text-align: right;\n",
       "    }\n",
       "</style>\n",
       "<table border=\"1\" class=\"dataframe\">\n",
       "  <thead>\n",
       "    <tr style=\"text-align: right;\">\n",
       "      <th></th>\n",
       "      <th>pop_data</th>\n",
       "    </tr>\n",
       "  </thead>\n",
       "  <tbody>\n",
       "    <tr>\n",
       "      <th>0</th>\n",
       "      <td>91</td>\n",
       "    </tr>\n",
       "    <tr>\n",
       "      <th>1</th>\n",
       "      <td>30</td>\n",
       "    </tr>\n",
       "    <tr>\n",
       "      <th>2</th>\n",
       "      <td>61</td>\n",
       "    </tr>\n",
       "    <tr>\n",
       "      <th>3</th>\n",
       "      <td>52</td>\n",
       "    </tr>\n",
       "    <tr>\n",
       "      <th>4</th>\n",
       "      <td>41</td>\n",
       "    </tr>\n",
       "  </tbody>\n",
       "</table>\n",
       "</div>"
      ],
      "text/plain": [
       "   pop_data\n",
       "0        91\n",
       "1        30\n",
       "2        61\n",
       "3        52\n",
       "4        41"
      ]
     },
     "execution_count": 29,
     "metadata": {},
     "output_type": "execute_result"
    }
   ],
   "source": [
    "pop_data = [np.random.randint(10, 100) for i in range(10000)]\n",
    "pop_table = pd.DataFrame({\"pop_data\":pop_data})\n",
    "pop_table.head()"
   ]
  },
  {
   "cell_type": "code",
   "execution_count": 30,
   "id": "7be10150-1b0c-4692-8305-c855bc9cf29c",
   "metadata": {},
   "outputs": [
    {
     "data": {
      "image/png": "[encoded data removed]",
      "text/plain": [
       "<Figure size 300x200 with 1 Axes>"
      ]
     },
     "metadata": {},
     "output_type": "display_data"
    }
   ],
   "source": [
    "plt.figure(figsize=(3,2))\n",
    "sns.kdeplot(x=\"pop_data\", data=pop_table)\n",
    "plt.show()"
   ]
  },
  {
   "cell_type": "code",
   "execution_count": 31,
   "id": "7d8f9d8d-97fa-4f44-b4b2-ac62d29cd195",
   "metadata": {},
   "outputs": [
    {
     "data": {
      "text/plain": [
       "1000.0"
      ]
     },
     "execution_count": 31,
     "metadata": {},
     "output_type": "execute_result"
    }
   ],
   "source": [
    "(10000*10)/100"
   ]
  },
  {
   "cell_type": "code",
   "execution_count": 32,
   "id": "f4b6babd-afb3-45fc-89de-a27d783ae871",
   "metadata": {},
   "outputs": [],
   "source": [
    "sample_mean = []\n",
    "for no_sample in range(60):\n",
    "    sample_data = []\n",
    "    for data in range(500):\n",
    "        sample_data.append(np.random.choice(pop_data))\n",
    "    sample_mean.append(np.mean(sample_data))"
   ]
  },
  {
   "cell_type": "code",
   "execution_count": 33,
   "id": "f854636d-2060-4a42-bab3-8ebb2a8f2cd2",
   "metadata": {},
   "outputs": [],
   "source": [
    "sample_M = pd.DataFrame({\"Sample_Mean\":sample_mean})"
   ]
  },
  {
   "cell_type": "code",
   "execution_count": 34,
   "id": "e575bb82-1ad8-4436-8491-4c5cdc104e69",
   "metadata": {},
   "outputs": [
    {
     "data": {
      "image/png": "[encoded data removed]",
      "text/plain": [
       "<Figure size 300x200 with 1 Axes>"
      ]
     },
     "metadata": {},
     "output_type": "display_data"
    }
   ],
   "source": [
    "plt.figure(figsize=(3,2))\n",
    "sns.kdeplot(x=\"Sample_Mean\", data=sample_M)\n",
    "plt.show()"
   ]
  },
  {
   "cell_type": "code",
   "execution_count": 35,
   "id": "3b7a0e4e-d5b4-4e22-a7d5-7a0ec37f5ab6",
   "metadata": {},
   "outputs": [
    {
     "data": {
      "text/plain": [
       "(np.float64(54.265), np.float64(54.4047))"
      ]
     },
     "execution_count": 35,
     "metadata": {},
     "output_type": "execute_result"
    }
   ],
   "source": [
    "# Let's check out Population mean and Sample mean both are equal or no.\n",
    "np.mean(pop_data), np.mean(sample_mean)"
   ]
  },
  {
   "cell_type": "markdown",
   "id": "c374f185-940a-4abf-8b14-ca262e1587e1",
   "metadata": {},
   "source": [
    "## b. Hypothesis Testing"
   ]
  },
  {
   "cell_type": "markdown",
   "id": "5bf6a8f3-2526-4fdf-bcf1-463c3df3bebf",
   "metadata": {
    "jp-MarkdownHeadingCollapsed": true
   },
   "source": [
    "### 1. Z-Tests"
   ]
  },
  {
   "cell_type": "markdown",
   "id": "14aafb81-497f-4cbe-bb64-6f653dec6c15",
   "metadata": {},
   "source": [
    "FORMULA -> Z = (x̄ - μ)/(𝜎 / √n )\n",
    "\n",
    "Where:\n",
    "\n",
    "• x̄ = sample mean\n",
    "\n",
    "• μ = population mean\n",
    "\n",
    "• σ = population standard deviation\n",
    "\n",
    "• n = sample size\n",
    "\n",
    "#### Q1. A teacher claims that the mean score of students in this class is greater than 82 with a standard deviation of 20. If a sample of 81 students was selected with a mean score of 90."
   ]
  },
  {
   "cell_type": "code",
   "execution_count": 36,
   "id": "c081e37a-14d3-4ec5-a286-e4eb00da11c0",
   "metadata": {},
   "outputs": [],
   "source": [
    "import scipy.stats as st"
   ]
  },
  {
   "cell_type": "code",
   "execution_count": 37,
   "id": "a5dde623-cfc1-4260-a6f4-98291e991fca",
   "metadata": {},
   "outputs": [],
   "source": [
    "sample_mean = 90\n",
    "population_mean = 82\n",
    "std = 20\n",
    "no_sample = 81\n",
    "alpha = 0.05"
   ]
  },
  {
   "cell_type": "code",
   "execution_count": 38,
   "id": "d018be13-ef92-4026-820f-0c4c36db0898",
   "metadata": {},
   "outputs": [
    {
     "name": "stdout",
     "output_type": "stream",
     "text": [
      "3.5999999999999996\n"
     ]
    }
   ],
   "source": [
    "z_cal = (sample_mean - population_mean) / (std / np.sqrt(no_sample))\n",
    "print(z_cal)"
   ]
  },
  {
   "cell_type": "code",
   "execution_count": 39,
   "id": "52945cb2-9a85-4836-ba14-e83d8dfedb35",
   "metadata": {},
   "outputs": [
    {
     "name": "stdout",
     "output_type": "stream",
     "text": [
      "1.6448536269514722\n"
     ]
    }
   ],
   "source": [
    "z_table = st.norm.ppf(1-alpha)\n",
    "print(z_table)"
   ]
  },
  {
   "cell_type": "code",
   "execution_count": 40,
   "id": "b45aeff3-6349-4335-9d13-f667647aaaea",
   "metadata": {},
   "outputs": [
    {
     "name": "stdout",
     "output_type": "stream",
     "text": [
      "Ha is right\n"
     ]
    }
   ],
   "source": [
    "if z_table < z_cal:\n",
    "    print('Ha is right')\n",
    "else:\n",
    "    print('Ho is right')"
   ]
  },
  {
   "cell_type": "markdown",
   "id": "15c1064f-48c6-4704-8de6-c0e6ed0277dd",
   "metadata": {},
   "source": [
    "#### Q2. Scenario: Imagine you work for an e-commerce company, and your team is responsible for analyzing customer purchase data. You want to determine whether a new website design has led to a significant increase in the average purchase amount compared to the old design.\n",
    "\n",
    "#### Data: You have collected data from a random sample of 30 customers who made purchases on the old website design and 30 customers who made purchases on the new website design. You have the sample means, sample standard deviations, and sample sizes for both groups.\n",
    "\n",
    "#### • Old design data = [45.2, 42.8, 38.9, 43.5, 41.0, 44.6, 40.5, 42.7, 39.8, 41.4, 44.3, 39.7, 42.1, 40.6, 43.0, 42.2, 41.5, 39.6, 44.0, 43.1, 38.7, 43.9, 42.0, 41.9, 42.8, 43.7, 41.3, 40.9, 42.5, 41.6]\n",
    "\n",
    "#### • New design data = [48.5, 49.1, 50.2, 47.8, 48.7, 49.9, 48.0, 50.5, 49.8, 49.6, 48.2, 48.9, 49.7, 50.3, 49.4, 50.1, 48.6, 48.3, 49.0, 50.0, 48.4, 49.3, 49.5, 48.8, 50.6, 50.4, 48.1, 49.2, 50.7, 50.8]\n",
    "\n",
    "#### • population std = 2.5\n",
    "\n",
    "FORMULA ->   Z = (x̄new - x̄old)/(𝜎 / √n )"
   ]
  },
  {
   "cell_type": "code",
   "execution_count": 41,
   "id": "9ec207a0-7def-4d00-a1b7-0507ef47ad24",
   "metadata": {},
   "outputs": [],
   "source": [
    "old_design_data = np.array([45.2, 42.8, 38.9, 43.5, 41.0, 44.6, 40.5, 42.7, 39.8, 41.4, 44.3, 39.7, 42.1, 40.6, 43.0, 42.2, 41.5, 39.6, 44.0, 43.1, 38.7, 43.9, 42.0, 41.9, 42.8, 43.7, 41.3, 40.9, 42.5, 41.6])\n",
    "new_design_data = np.array([48.5, 49.1, 50.2, 47.8, 48.7, 49.9, 48.0, 50.5, 49.8, 49.6, 48.2, 48.9, 49.7, 50.3, 49.4, 50.1, 48.6, 48.3, 49.0, 50.0, 48.4, 49.3, 49.5, 48.8, 50.6, 50.4, 48.1, 49.2, 50.7, 50.8])"
   ]
  },
  {
   "cell_type": "code",
   "execution_count": 42,
   "id": "d3e69176-6ffb-435f-9d9e-6531ae7b4e46",
   "metadata": {},
   "outputs": [],
   "source": [
    "mean_new = np.mean(new_design_data)\n",
    "mean_old = np.mean(old_design_data)\n",
    "std = 2.5\n",
    "n_sample = 30\n",
    "alpha = 0.05"
   ]
  },
  {
   "cell_type": "code",
   "execution_count": 43,
   "id": "1210a86a-a069-40f6-9ad7-c35c111b6cd8",
   "metadata": {},
   "outputs": [
    {
     "name": "stdout",
     "output_type": "stream",
     "text": [
      "16.11034615808528\n"
     ]
    }
   ],
   "source": [
    "z_calc = (mean_new - mean_old) / (std/np.sqrt(n_sample))\n",
    "print(z_calc)"
   ]
  },
  {
   "cell_type": "code",
   "execution_count": 44,
   "id": "494f9659-915f-4db7-bbea-d1b426e4c2da",
   "metadata": {},
   "outputs": [
    {
     "name": "stdout",
     "output_type": "stream",
     "text": [
      "1.6448536269514722\n"
     ]
    }
   ],
   "source": [
    "z_table1 = st.norm.ppf(1-alpha)\n",
    "print(z_table1)"
   ]
  },
  {
   "cell_type": "code",
   "execution_count": 45,
   "id": "53baa03b-110a-4f80-8761-18e41f099f99",
   "metadata": {},
   "outputs": [
    {
     "name": "stdout",
     "output_type": "stream",
     "text": [
      "Ha is right\n"
     ]
    }
   ],
   "source": [
    "if z_table < z_calc:\n",
    "    print('Ha is right')\n",
    "else:\n",
    "    print('Ho is right')"
   ]
  },
  {
   "cell_type": "markdown",
   "id": "c71e0a5e-aaf7-4eb1-83ba-98850e8634d8",
   "metadata": {
    "jp-MarkdownHeadingCollapsed": true
   },
   "source": [
    "### 2. T-tests"
   ]
  },
  {
   "cell_type": "markdown",
   "id": "3e97e4b2-6e90-4ee9-a486-6969ba6fc125",
   "metadata": {},
   "source": [
    "FORMULA -> Z = (x̄ - μ)/(s / √n ) \n",
    "\n",
    "Where:\n",
    "\n",
    "• x̄ = sample mean\n",
    "\n",
    "• μ = population mean\n",
    "\n",
    "• s = sample standard deviation\n",
    "\n",
    "• n = sample size\n",
    "\n",
    "#### Q1. A manufacturer claims that the average weight of a bag of potato chips is 150 grams. A sample of 25 bags is taken, and the average weight is found to be 148 grams, with a standard deviation of 5 grams. Test the manufacturer’s claim using a one-tailed t-test with a significance level of 0.05.\n",
    "\n",
    "df = n - 1"
   ]
  },
  {
   "cell_type": "code",
   "execution_count": 46,
   "id": "1088fa5b-9108-44f8-8fcb-e116c3b9b0ec",
   "metadata": {},
   "outputs": [],
   "source": [
    "sample_mean = 148\n",
    "population_mean = 150\n",
    "sample_std = 5\n",
    "no_sample = 25"
   ]
  },
  {
   "cell_type": "code",
   "execution_count": 47,
   "id": "dd09a166-539e-422a-b218-d8262a99df98",
   "metadata": {},
   "outputs": [
    {
     "name": "stdout",
     "output_type": "stream",
     "text": [
      "-2.0\n"
     ]
    }
   ],
   "source": [
    "t_cal = (sample_mean - population_mean) / (sample_std / np.sqrt(no_sample))\n",
    "print(t_cal)"
   ]
  },
  {
   "cell_type": "code",
   "execution_count": 48,
   "id": "50598f24-5bc9-421a-be9f-7f276063772c",
   "metadata": {},
   "outputs": [
    {
     "name": "stdout",
     "output_type": "stream",
     "text": [
      "-1.7108820799094282\n"
     ]
    }
   ],
   "source": [
    "t_table = st.t.ppf(0.05, 24)\n",
    "print(t_table)"
   ]
  },
  {
   "cell_type": "code",
   "execution_count": 49,
   "id": "72ccefd5-c480-4ba4-851f-efae2708523d",
   "metadata": {},
   "outputs": [
    {
     "name": "stdout",
     "output_type": "stream",
     "text": [
      "Ha is right\n"
     ]
    }
   ],
   "source": [
    "if t_table > t_cal:\n",
    "    print('Ha is right')\n",
    "else:\n",
    "    print('Ho is right')"
   ]
  },
  {
   "cell_type": "markdown",
   "id": "6c3abd39-c64e-4a7b-8942-1e71c997e9b4",
   "metadata": {},
   "source": [
    "#### Q2. A company wants to test whether there is a difference in productivity between two teams. They randomly select 20 employees from each team and record their productivity scores. The mean productivity score for Team A is 80 with a standard deviation of 5, while the mean productivity score for Team B is 75 with a standard deviation of 6. Test at a 5% level of significance whether there is a difference in productivity between the two teams.\n",
    "\n",
    "degree of freedom (df) = 20 + 20 - 2\n",
    "\n",
    "                    df = n + n - 2\n",
    "FORMULA ->  Z = (x̄A - x̄B) - (μA - μA) / sqrt((sA ** 2/nA) + (sB ** 2/nB))"
   ]
  },
  {
   "cell_type": "code",
   "execution_count": 50,
   "id": "3cb92949-17e8-4c78-8313-75701e2eb39f",
   "metadata": {},
   "outputs": [],
   "source": [
    "# Given data\n",
    "mean_A, sd_A, n_A = 80, 5, 20\n",
    "mean_B, sd_B, n_B = 75, 6, 20"
   ]
  },
  {
   "cell_type": "code",
   "execution_count": 51,
   "id": "9734c918-0a89-4496-a528-cc9445705392",
   "metadata": {},
   "outputs": [],
   "source": [
    "# Generate sample data (normally distributed for demonstration)\n",
    "np.random.seed(42)  # for reproducibility\n",
    "data_A = np.random.normal(mean_A, sd_A, n_A)\n",
    "data_B = np.random.normal(mean_B, sd_B, n_B)"
   ]
  },
  {
   "cell_type": "code",
   "execution_count": 52,
   "id": "5177b922-249f-41c8-816c-b1585e3cc8ea",
   "metadata": {},
   "outputs": [
    {
     "name": "stdout",
     "output_type": "stream",
     "text": [
      "t-statistic: 3.4063742886052664\n",
      "p-value: 0.0015683141010341612\n"
     ]
    }
   ],
   "source": [
    "# Perform independent two-sample t-test\n",
    "t_stat, p_value = st.ttest_ind(data_A, data_B)\n",
    "\n",
    "print(\"t-statistic:\", t_stat)\n",
    "print(\"p-value:\", p_value)"
   ]
  },
  {
   "cell_type": "code",
   "execution_count": 53,
   "id": "b090c593-50ee-43e2-a040-df06049d0f4d",
   "metadata": {},
   "outputs": [
    {
     "name": "stdout",
     "output_type": "stream",
     "text": [
      "Reject H0 → Significant difference in productivity.\n"
     ]
    }
   ],
   "source": [
    "# Decision\n",
    "alpha = 0.05\n",
    "if p_value < alpha:\n",
    "    print(\"Reject H0 → Significant difference in productivity.\")\n",
    "else:\n",
    "    print(\"Fail to Reject H0 → No significant difference in productivity.\")"
   ]
  },
  {
   "cell_type": "code",
   "execution_count": 54,
   "id": "18401d59-2f86-461b-ad46-5c612788f557",
   "metadata": {},
   "outputs": [
    {
     "name": "stdout",
     "output_type": "stream",
     "text": [
      "2.862991671569341\n"
     ]
    }
   ],
   "source": [
    "# Using Formula\n",
    "t_cal = (mean_A - mean_B) / (np.sqrt((sd_A**2/n_A) + (sd_B**2/n_B)))\n",
    "print(t_cal)"
   ]
  },
  {
   "cell_type": "code",
   "execution_count": 55,
   "id": "2e39d3ff-feba-4a62-b10a-fc52a9983895",
   "metadata": {},
   "outputs": [
    {
     "name": "stdout",
     "output_type": "stream",
     "text": [
      "2.024394163911969\n"
     ]
    }
   ],
   "source": [
    "t_table = st.t.ppf(1-0.025, 38)\n",
    "print(t_table)"
   ]
  },
  {
   "cell_type": "code",
   "execution_count": 56,
   "id": "6ad50b36-c857-47fb-b41f-8141021fa6fb",
   "metadata": {},
   "outputs": [
    {
     "name": "stdout",
     "output_type": "stream",
     "text": [
      "Ha is right\n"
     ]
    }
   ],
   "source": [
    "if t_table < t_cal:\n",
    "    print('Ha is right')\n",
    "else:\n",
    "    print('Ho is right')"
   ]
  },
  {
   "cell_type": "markdown",
   "id": "78e33091-e8e4-411b-9b3f-ccdcd835945d",
   "metadata": {},
   "source": [
    "#### Q3. A company wants to test whether a new training program improves the typing speed of its employees. The typing speed of 20 employees was recorded before and after the training program. The data is given below. Test at a 5% level of significance whether the training program has an effect on the typing speed of the employees.\n",
    "\n",
    "• Before: 50, 60, 45, 65, 55, 70, 40, 75, 80, 65, 70, 60, 50, 55, 45, 75, 60, 50, 65, 70\n",
    "\n",
    "• After: 60, 70, 55, 75, 65, 80, 50, 85, 90, 70, 75, 65, 55, 60, 50, 80, 65, 55, 70, 75\n",
    "\n",
    "df = n - 1\n",
    "\n",
    "FORMULA -> Z = (x̄A - x̄B) - (μA - μA) / sqrt((std_a ** 2/nA) + (std_b ** 2/nB))"
   ]
  },
  {
   "cell_type": "code",
   "execution_count": 57,
   "id": "b15714b4-5073-469f-bd7d-dcf66fa68e00",
   "metadata": {},
   "outputs": [],
   "source": [
    "Before = np.array([50, 60, 45, 65, 55, 70, 40, 75, 80, 65, 70, 60, 50, 55, 45, 75, 60, 50, 65, 70])\n",
    "\n",
    "After = np.array([60, 70, 55, 75, 65, 80, 50, 85, 90, 70, 75, 65, 55, 60, 50, 80, 65, 55, 70, 75])"
   ]
  },
  {
   "cell_type": "code",
   "execution_count": 58,
   "id": "95ec925c-8032-4307-8d96-dc2d3d6f88e6",
   "metadata": {},
   "outputs": [],
   "source": [
    "std_a = np.std(After)\n",
    "std_b = np.std(Before)\n",
    "mean_a = np.mean(After)\n",
    "mean_b = np.mean(Before)"
   ]
  },
  {
   "cell_type": "code",
   "execution_count": 59,
   "id": "ba72094b-d3a9-47a2-8dfb-34d8b6ed752e",
   "metadata": {},
   "outputs": [
    {
     "data": {
      "text/plain": [
       "np.float64(2.061200527128206)"
      ]
     },
     "execution_count": 59,
     "metadata": {},
     "output_type": "execute_result"
    }
   ],
   "source": [
    "t_calcu = (mean_a - mean_b) / (np.sqrt(((std_a**2)/len(After))+((std_b**2)/len(Before))))\n",
    "t_calcu"
   ]
  },
  {
   "cell_type": "code",
   "execution_count": 60,
   "id": "feb17150-e48d-4292-8c1a-f66fdb244102",
   "metadata": {},
   "outputs": [
    {
     "name": "stdout",
     "output_type": "stream",
     "text": [
      "2.093024054408263\n"
     ]
    }
   ],
   "source": [
    "t_table = st.t.ppf(1-0.025, 19)\n",
    "print(t_table)"
   ]
  },
  {
   "cell_type": "code",
   "execution_count": 61,
   "id": "afe67315-ba4c-4131-a685-0cc7f2615dbc",
   "metadata": {},
   "outputs": [
    {
     "name": "stdout",
     "output_type": "stream",
     "text": [
      "Ho is right\n"
     ]
    }
   ],
   "source": [
    "if t_table < t_calcu:\n",
    "    print('Ha is right')\n",
    "else:\n",
    "    print('Ho is right')"
   ]
  },
  {
   "cell_type": "markdown",
   "id": "8212e929-de55-402a-8015-9392a738891b",
   "metadata": {},
   "source": [
    "### 3. Chi Square Test"
   ]
  },
  {
   "cell_type": "markdown",
   "id": "64f96ccd-85c7-43ca-b93e-2d1126d4ffca",
   "metadata": {},
   "source": [
    "Formula -> χ2 = ∑ (Oi − Ei)2 / Ei\n",
    "\n",
    "Oi = Observed Frequency\n",
    "\n",
    "Ei = Expected Frequency\n",
    "\n",
    "χ2 = Chi-Square statistic\n",
    "\n",
    "#### Q1. A fair die is rolled 120 times and the following results are obtained:\n",
    "#### Face 1: 22 times\n",
    "#### Face 2: 17 times\n",
    "#### Face 3: 20 times\n",
    "#### Face 4: 26 times\n",
    "#### Face 5: 22 times\n",
    "#### Face 6: 13 times\n",
    "#### Test at a 5% level of significance whether the die is fair."
   ]
  },
  {
   "cell_type": "code",
   "execution_count": 62,
   "id": "98b8b073-cab2-40aa-b19d-8994ca57b248",
   "metadata": {},
   "outputs": [],
   "source": [
    "Observed = np.array([22, 17, 20, 26, 22, 13])\n",
    "Expected = np.array([20, 20, 20, 20, 20, 20])"
   ]
  },
  {
   "cell_type": "code",
   "execution_count": 63,
   "id": "226a6cb4-496d-47f1-8641-b7076a9e43b1",
   "metadata": {},
   "outputs": [
    {
     "name": "stdout",
     "output_type": "stream",
     "text": [
      "5.1000000000000005\n"
     ]
    }
   ],
   "source": [
    "chi_calc = np.sum(np.square(Observed - Expected)/Expected)\n",
    "print(chi_calc)"
   ]
  },
  {
   "cell_type": "code",
   "execution_count": 64,
   "id": "5811ad97-17b3-4e39-a949-6a49777b1549",
   "metadata": {},
   "outputs": [
    {
     "name": "stdout",
     "output_type": "stream",
     "text": [
      "11.070497693516351\n"
     ]
    }
   ],
   "source": [
    "chi_table = st.chi2.ppf(1 - 0.05, 5)\n",
    "print(chi_table)"
   ]
  },
  {
   "cell_type": "code",
   "execution_count": 65,
   "id": "53721e30-d22a-45e2-aaa1-09192997573a",
   "metadata": {},
   "outputs": [
    {
     "name": "stdout",
     "output_type": "stream",
     "text": [
      "Ho is right\n"
     ]
    }
   ],
   "source": [
    "if chi_table < chi_calc:\n",
    "    print('Ha is right')\n",
    "else:\n",
    "    print('Ho is right')"
   ]
  },
  {
   "cell_type": "markdown",
   "id": "52915206-46e2-4332-be74-e8b294e147fb",
   "metadata": {},
   "source": [
    "#### Q2. A study was conducted to investigate whether there is a relationship between gender and the preferred genre of music. A sample of 235 people was selected, and the data collected is shown below. Test at a 5% level of significance whether there is a significant association between gender and music preference.\n",
    "\n",
    "| Gender | Pop | Hip Hop | Classical | Rock |\n",
    "| ------ | --- | ------- | --------- | ---- |\n",
    "| Male   | 40  | 45      | 25        | 10   |\n",
    "| Female | 35  | 30      | 20        | 30   |\n",
    "\n",
    "Calculate Ei = sum_col1 * sum_r1 / no_of_sample"
   ]
  },
  {
   "cell_type": "code",
   "execution_count": 66,
   "id": "cb3dead2-2b00-4807-917f-a7f6a2b05fa8",
   "metadata": {},
   "outputs": [],
   "source": [
    "row1 = np.array([40, 45, 25, 10])\n",
    "row2 = np.array([35, 30, 20, 30])"
   ]
  },
  {
   "cell_type": "code",
   "execution_count": 67,
   "id": "9811f192-77c8-4cc6-9462-313cfcff6f25",
   "metadata": {},
   "outputs": [
    {
     "data": {
      "text/plain": [
       "array([120, 115])"
      ]
     },
     "execution_count": 67,
     "metadata": {},
     "output_type": "execute_result"
    }
   ],
   "source": [
    "sum_row1 = np.sum(row1)\n",
    "sum_row2 = np.sum(row2)\n",
    "sum_row = np.array([sum_row1, sum_row2])\n",
    "sum_row"
   ]
  },
  {
   "cell_type": "code",
   "execution_count": 68,
   "id": "bb0cc1a8-18df-4528-93bd-e18fd10adab8",
   "metadata": {},
   "outputs": [
    {
     "data": {
      "text/plain": [
       "array([75, 75, 45, 40])"
      ]
     },
     "execution_count": 68,
     "metadata": {},
     "output_type": "execute_result"
    }
   ],
   "source": [
    "sum_cal = row1+row2\n",
    "sum_cal"
   ]
  },
  {
   "cell_type": "code",
   "execution_count": 69,
   "id": "b599f22a-cc01-47c8-95b3-f773ab58f1b1",
   "metadata": {},
   "outputs": [],
   "source": [
    "Expected = []\n",
    "for i in sum_row:\n",
    "    for j in sum_cal:\n",
    "        value = (i*j)/235\n",
    "        Expected.append(value)"
   ]
  },
  {
   "cell_type": "code",
   "execution_count": 70,
   "id": "f14cea6a-c9c1-4428-9533-22a94c2f53a8",
   "metadata": {},
   "outputs": [],
   "source": [
    "Observed = np.array([40, 45, 25, 10, 35, 30, 20, 30])"
   ]
  },
  {
   "cell_type": "code",
   "execution_count": 71,
   "id": "114680f1-9b59-4cb9-a004-a8520a95c65d",
   "metadata": {},
   "outputs": [
    {
     "name": "stdout",
     "output_type": "stream",
     "text": [
      "13.788747987117553\n"
     ]
    }
   ],
   "source": [
    "chi_calc = np.sum((np.square(Observed - Expected))/ Expected)\n",
    "print(chi_calc)"
   ]
  },
  {
   "cell_type": "code",
   "execution_count": 72,
   "id": "9522bf3b-def3-48bd-89ed-fa32aa3d88cc",
   "metadata": {},
   "outputs": [
    {
     "name": "stdout",
     "output_type": "stream",
     "text": [
      "7.814727903251179\n"
     ]
    }
   ],
   "source": [
    "# df = (row-1) * (col-1) = 3\n",
    "chi_table = chi_table = st.chi2.ppf(1 - 0.05, 3)\n",
    "print(chi_table)"
   ]
  },
  {
   "cell_type": "code",
   "execution_count": 73,
   "id": "d8685011-231e-4410-a627-820d9dc94982",
   "metadata": {},
   "outputs": [
    {
     "name": "stdout",
     "output_type": "stream",
     "text": [
      "Ha is right\n"
     ]
    }
   ],
   "source": [
    "if chi_table < chi_calc:\n",
    "    print('Ha is right')\n",
    "else:\n",
    "    print('Ho is right')"
   ]
  }
 ],
 "metadata": {
  "kernelspec": {
   "display_name": "Python 3 (ipykernel)",
   "language": "python",
   "name": "python3"
  },
  "language_info": {
   "codemirror_mode": {
    "name": "ipython",
    "version": 3
   },
   "file_extension": ".py",
   "mimetype": "text/x-python",
   "name": "python",
   "nbconvert_exporter": "python",
   "pygments_lexer": "ipython3",
   "version": "3.13.3"
  }
 },
 "nbformat": 4,
 "nbformat_minor": 5
}
